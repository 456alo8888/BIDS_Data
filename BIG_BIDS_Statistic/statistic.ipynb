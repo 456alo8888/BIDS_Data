{
 "cells": [
  {
   "cell_type": "code",
   "execution_count": 1,
   "id": "6cdff440",
   "metadata": {},
   "outputs": [],
   "source": [
    "import pandas as pd \n",
    "import numpy as np \n",
    "import matplotlib.pyplot as plt \n"
   ]
  },
  {
   "cell_type": "code",
   "execution_count": 5,
   "id": "0f5be116",
   "metadata": {},
   "outputs": [],
   "source": [
    "sub_0001 = pd.read_csv(\"/mnt/disk1/aiotlab/hieupc/New_CBraMod/BIDS/BIG_BIDS_Statistic/sub-0001_scans.tsv\", sep =\"\\t\")"
   ]
  },
  {
   "cell_type": "code",
   "execution_count": 7,
   "id": "5f6aafa2",
   "metadata": {},
   "outputs": [],
   "source": [
    "participant = pd.read_csv(\"/mnt/disk1/aiotlab/hieupc/New_CBraMod/BIDS/BIG_BIDS_Statistic/participants.tsv\" , sep = \"\\t\")"
   ]
  },
  {
   "cell_type": "code",
   "execution_count": 8,
   "id": "bdda04d1",
   "metadata": {},
   "outputs": [
    {
     "data": {
      "application/vnd.microsoft.datawrangler.viewer.v0+json": {
       "columns": [
        {
         "name": "index",
         "rawType": "int64",
         "type": "integer"
        },
        {
         "name": "participant_id",
         "rawType": "object",
         "type": "string"
        },
        {
         "name": "age",
         "rawType": "float64",
         "type": "float"
        },
        {
         "name": "sex",
         "rawType": "object",
         "type": "string"
        },
        {
         "name": "group",
         "rawType": "float64",
         "type": "float"
        }
       ],
       "ref": "16f771e4-ae51-44e1-91fb-bb4dcab93b7b",
       "rows": [
        [
         "0",
         "sub-0001",
         null,
         "female",
         null
        ],
        [
         "1",
         "sub-0002",
         "58.0",
         "female",
         null
        ],
        [
         "2",
         "sub-0003",
         "33.0",
         "female",
         null
        ],
        [
         "3",
         "sub-0004",
         "33.0",
         "female",
         null
        ],
        [
         "4",
         "sub-0005",
         null,
         "female",
         null
        ],
        [
         "5",
         "sub-0006",
         "46.0",
         "female",
         null
        ],
        [
         "6",
         "sub-0007",
         "60.0",
         "female",
         null
        ],
        [
         "7",
         "sub-0008",
         null,
         "female",
         null
        ],
        [
         "8",
         "sub-0009",
         null,
         "female",
         null
        ],
        [
         "9",
         "sub-0010",
         null,
         "female",
         null
        ],
        [
         "10",
         "sub-0011",
         "41.0",
         "female",
         null
        ],
        [
         "11",
         "sub-0012",
         "41.0",
         "female",
         null
        ],
        [
         "12",
         "sub-0013",
         "41.0",
         "female",
         null
        ],
        [
         "13",
         "sub-0014",
         "54.0",
         "female",
         null
        ],
        [
         "14",
         "sub-0015",
         "31.0",
         "female",
         null
        ],
        [
         "15",
         "sub-0016",
         null,
         "female",
         null
        ],
        [
         "16",
         "sub-0017",
         null,
         "male",
         null
        ],
        [
         "17",
         "sub-0018",
         "57.0",
         "female",
         null
        ],
        [
         "18",
         "sub-0019",
         "18.0",
         "female",
         null
        ],
        [
         "19",
         "sub-0020",
         "40.0",
         "male",
         null
        ],
        [
         "20",
         "sub-0021",
         null,
         "male",
         null
        ],
        [
         "21",
         "sub-0022",
         null,
         "female",
         null
        ],
        [
         "22",
         "sub-0023",
         "55.0",
         "female",
         null
        ],
        [
         "23",
         "sub-0024",
         "28.0",
         "female",
         null
        ],
        [
         "24",
         "sub-0025",
         "49.0",
         "female",
         null
        ],
        [
         "25",
         "sub-0026",
         null,
         "female",
         null
        ],
        [
         "26",
         "sub-0027",
         "18.0",
         "female",
         null
        ],
        [
         "27",
         "sub-0028",
         null,
         "female",
         null
        ],
        [
         "28",
         "sub-0029",
         "76.0",
         "female",
         null
        ],
        [
         "29",
         "sub-0030",
         "56.0",
         "male",
         null
        ],
        [
         "30",
         "sub-0031",
         "59.0",
         "male",
         null
        ],
        [
         "31",
         "sub-0032",
         "60.0",
         "female",
         null
        ],
        [
         "32",
         "sub-0033",
         "61.0",
         "female",
         null
        ],
        [
         "33",
         "sub-0034",
         "40.0",
         "female",
         null
        ],
        [
         "34",
         "sub-0035",
         "34.0",
         "male",
         null
        ],
        [
         "35",
         "sub-0036",
         "36.0",
         "female",
         null
        ],
        [
         "36",
         "sub-0037",
         "46.0",
         "female",
         null
        ],
        [
         "37",
         "sub-0038",
         "59.0",
         "female",
         null
        ],
        [
         "38",
         "sub-0039",
         "22.0",
         "male",
         null
        ],
        [
         "39",
         "sub-0040",
         "54.0",
         "female",
         null
        ],
        [
         "40",
         "sub-0041",
         null,
         "female",
         null
        ],
        [
         "41",
         "sub-0042",
         "29.0",
         "female",
         null
        ],
        [
         "42",
         "sub-0043",
         "56.0",
         "female",
         null
        ],
        [
         "43",
         "sub-0044",
         "47.0",
         "female",
         null
        ],
        [
         "44",
         "sub-0045",
         null,
         "female",
         null
        ],
        [
         "45",
         "sub-0046",
         "11.0",
         "female",
         null
        ],
        [
         "46",
         "sub-0047",
         "60.0",
         "female",
         null
        ],
        [
         "47",
         "sub-0048",
         "40.0",
         "female",
         null
        ],
        [
         "48",
         "sub-0049",
         "55.0",
         "female",
         null
        ],
        [
         "49",
         "sub-0050",
         "52.0",
         "female",
         null
        ]
       ],
       "shape": {
        "columns": 4,
        "rows": 6081
       }
      },
      "text/html": [
       "<div>\n",
       "<style scoped>\n",
       "    .dataframe tbody tr th:only-of-type {\n",
       "        vertical-align: middle;\n",
       "    }\n",
       "\n",
       "    .dataframe tbody tr th {\n",
       "        vertical-align: top;\n",
       "    }\n",
       "\n",
       "    .dataframe thead th {\n",
       "        text-align: right;\n",
       "    }\n",
       "</style>\n",
       "<table border=\"1\" class=\"dataframe\">\n",
       "  <thead>\n",
       "    <tr style=\"text-align: right;\">\n",
       "      <th></th>\n",
       "      <th>participant_id</th>\n",
       "      <th>age</th>\n",
       "      <th>sex</th>\n",
       "      <th>group</th>\n",
       "    </tr>\n",
       "  </thead>\n",
       "  <tbody>\n",
       "    <tr>\n",
       "      <th>0</th>\n",
       "      <td>sub-0001</td>\n",
       "      <td>NaN</td>\n",
       "      <td>female</td>\n",
       "      <td>NaN</td>\n",
       "    </tr>\n",
       "    <tr>\n",
       "      <th>1</th>\n",
       "      <td>sub-0002</td>\n",
       "      <td>58.0</td>\n",
       "      <td>female</td>\n",
       "      <td>NaN</td>\n",
       "    </tr>\n",
       "    <tr>\n",
       "      <th>2</th>\n",
       "      <td>sub-0003</td>\n",
       "      <td>33.0</td>\n",
       "      <td>female</td>\n",
       "      <td>NaN</td>\n",
       "    </tr>\n",
       "    <tr>\n",
       "      <th>3</th>\n",
       "      <td>sub-0004</td>\n",
       "      <td>33.0</td>\n",
       "      <td>female</td>\n",
       "      <td>NaN</td>\n",
       "    </tr>\n",
       "    <tr>\n",
       "      <th>4</th>\n",
       "      <td>sub-0005</td>\n",
       "      <td>NaN</td>\n",
       "      <td>female</td>\n",
       "      <td>NaN</td>\n",
       "    </tr>\n",
       "    <tr>\n",
       "      <th>...</th>\n",
       "      <td>...</td>\n",
       "      <td>...</td>\n",
       "      <td>...</td>\n",
       "      <td>...</td>\n",
       "    </tr>\n",
       "    <tr>\n",
       "      <th>6076</th>\n",
       "      <td>sub-6077</td>\n",
       "      <td>NaN</td>\n",
       "      <td>NaN</td>\n",
       "      <td>NaN</td>\n",
       "    </tr>\n",
       "    <tr>\n",
       "      <th>6077</th>\n",
       "      <td>sub-6078</td>\n",
       "      <td>NaN</td>\n",
       "      <td>NaN</td>\n",
       "      <td>NaN</td>\n",
       "    </tr>\n",
       "    <tr>\n",
       "      <th>6078</th>\n",
       "      <td>sub-6079</td>\n",
       "      <td>NaN</td>\n",
       "      <td>NaN</td>\n",
       "      <td>NaN</td>\n",
       "    </tr>\n",
       "    <tr>\n",
       "      <th>6079</th>\n",
       "      <td>sub-6080</td>\n",
       "      <td>NaN</td>\n",
       "      <td>NaN</td>\n",
       "      <td>NaN</td>\n",
       "    </tr>\n",
       "    <tr>\n",
       "      <th>6080</th>\n",
       "      <td>sub-6081</td>\n",
       "      <td>NaN</td>\n",
       "      <td>NaN</td>\n",
       "      <td>NaN</td>\n",
       "    </tr>\n",
       "  </tbody>\n",
       "</table>\n",
       "<p>6081 rows × 4 columns</p>\n",
       "</div>"
      ],
      "text/plain": [
       "     participant_id   age     sex  group\n",
       "0          sub-0001   NaN  female    NaN\n",
       "1          sub-0002  58.0  female    NaN\n",
       "2          sub-0003  33.0  female    NaN\n",
       "3          sub-0004  33.0  female    NaN\n",
       "4          sub-0005   NaN  female    NaN\n",
       "...             ...   ...     ...    ...\n",
       "6076       sub-6077   NaN     NaN    NaN\n",
       "6077       sub-6078   NaN     NaN    NaN\n",
       "6078       sub-6079   NaN     NaN    NaN\n",
       "6079       sub-6080   NaN     NaN    NaN\n",
       "6080       sub-6081   NaN     NaN    NaN\n",
       "\n",
       "[6081 rows x 4 columns]"
      ]
     },
     "execution_count": 8,
     "metadata": {},
     "output_type": "execute_result"
    }
   ],
   "source": [
    "participant"
   ]
  },
  {
   "cell_type": "code",
   "execution_count": 12,
   "id": "8c13fe89",
   "metadata": {},
   "outputs": [],
   "source": [
    "# Ép cột age sang numeric, lỗi sẽ thành NaN\n",
    "participant[\"age\"] = pd.to_numeric(participant[\"age\"], errors=\"coerce\")\n",
    "\n"
   ]
  },
  {
   "cell_type": "code",
   "execution_count": 23,
   "id": "fdf905c7",
   "metadata": {},
   "outputs": [
    {
     "name": "stdout",
     "output_type": "stream",
     "text": [
      "recorded age 2186 , n/a 3895\n"
     ]
    }
   ],
   "source": [
    "participant_age = participant.dropna(subset=[\"age\"])\n",
    "print(f\"recorded age {len(participant_age)} , n/a {6081 - len(participant_age)}\")"
   ]
  },
  {
   "cell_type": "code",
   "execution_count": 14,
   "id": "f19d3ddf",
   "metadata": {},
   "outputs": [
    {
     "name": "stdout",
     "output_type": "stream",
     "text": [
      "mean 45.886093321134496 std 18.08241574095681 , min 1.0 , max 104.0 , ...\n"
     ]
    }
   ],
   "source": [
    "age = participant_age['age']\n",
    "print(f\"mean {np.mean(age)} std {np.std(age)} , min {np.min(age)} , max {np.max(age)} , ...\")"
   ]
  },
  {
   "cell_type": "code",
   "execution_count": 15,
   "id": "3973ecca",
   "metadata": {},
   "outputs": [
    {
     "name": "stdout",
     "output_type": "stream",
     "text": [
      "median 46.0\n",
      "Q1 34.0, Q3 60.0\n"
     ]
    }
   ],
   "source": [
    "print(f\"median {np.median(age)}\")\n",
    "print(f\"Q1 {np.percentile(age, 25)}, Q3 {np.percentile(age, 75)}\")"
   ]
  },
  {
   "cell_type": "code",
   "execution_count": 22,
   "id": "5f4e9412",
   "metadata": {},
   "outputs": [
    {
     "data": {
      "image/png": "[encoded data removed]",
      "text/plain": [
       "<Figure size 640x480 with 1 Axes>"
      ]
     },
     "metadata": {},
     "output_type": "display_data"
    }
   ],
   "source": [
    "plt.hist(age, bins=20, edgecolor=\"black\")\n",
    "plt.xlabel(\"Age\")\n",
    "plt.ylabel(\"Count\")\n",
    "plt.title(\"Distribution of Participants' Recorded Age\")\n",
    "plt.show()"
   ]
  },
  {
   "cell_type": "code",
   "execution_count": 17,
   "id": "98c11c94",
   "metadata": {},
   "outputs": [],
   "source": [
    "participant_sex = participant.dropna(subset=[\"sex\"])"
   ]
  },
  {
   "cell_type": "code",
   "execution_count": 20,
   "id": "fa062c57",
   "metadata": {},
   "outputs": [
    {
     "name": "stdout",
     "output_type": "stream",
     "text": [
      "number of sex counted 5104, n/a: 977\n"
     ]
    }
   ],
   "source": [
    "sex = participant_sex['sex']\n",
    "print(f\"number of sex counted {len(sex)}, n/a: {6081 - len(sex)}\")"
   ]
  },
  {
   "cell_type": "code",
   "execution_count": 40,
   "id": "95e5c8b8",
   "metadata": {},
   "outputs": [
    {
     "name": "stdout",
     "output_type": "stream",
     "text": [
      "Sex distribution:\n",
      "female    3748\n",
      "male      1356\n",
      "Name: sex, dtype: int64\n",
      "\n",
      "Sex percentage:\n",
      "female    61.63\n",
      "male      22.30\n",
      "Name: sex, dtype: float64\n",
      "unspecified 16.066436441374773\n"
     ]
    }
   ],
   "source": [
    "# Thống kê số lượng từng giới tính\n",
    "counts = sex.value_counts()\n",
    "\n",
    "print(\"Sex distribution:\")\n",
    "print(counts)\n",
    "\n",
    "# Tính tỉ lệ %\n",
    "print(\"\\nSex percentage:\")\n",
    "print((counts / 6081 * 100).round(2))\n",
    "\n",
    "napercent = 977 / 6081 *100\n",
    "print(f\"unspecified {napercent}\")"
   ]
  },
  {
   "cell_type": "code",
   "execution_count": 32,
   "id": "cee7ab5a",
   "metadata": {},
   "outputs": [
    {
     "name": "stdout",
     "output_type": "stream",
     "text": [
      "\n",
      "Total recording duration per subject (seconds):\n",
      "       subject  duration\n",
      "0     sub-0001   107.998\n",
      "1     sub-0002   269.998\n",
      "2     sub-0003    97.998\n",
      "3     sub-0004    36.998\n",
      "4     sub-0005    90.998\n",
      "...        ...       ...\n",
      "2242  sub-2243   110.998\n",
      "2243  sub-2244   119.998\n",
      "2244  sub-2245   360.998\n",
      "2245  sub-2246    93.998\n",
      "2246  sub-2247   100.998\n",
      "\n",
      "[2247 rows x 2 columns]\n",
      "\n",
      "Overall statistics by subject:\n",
      "count    2247.000000\n",
      "mean      144.261017\n",
      "std       168.943174\n",
      "min         0.998000\n",
      "25%        88.998000\n",
      "50%       114.998000\n",
      "75%       153.998000\n",
      "max      3121.998000\n",
      "Name: duration, dtype: float64\n",
      "\n",
      "Total duration (hours): 90.04\n"
     ]
    }
   ],
   "source": [
    "import os\n",
    "import glob\n",
    "import json\n",
    "import pandas as pd\n",
    "\n",
    "# Define the BIDS root directory\n",
    "bids_root = \"/mnt/disk1/aiotlab/hieupc/New_CBraMod/BIDS/Small_BIDS_Non_Match\"\n",
    "\n",
    "# Find all JSON files matching the pattern sub-*_task-rest*_eeg.json\n",
    "json_files = glob.glob(\n",
    "    os.path.join(bids_root, \"**\", \"sub-*_task-rest*_eeg.json\"),\n",
    "    recursive=True\n",
    ")\n",
    "\n",
    "records = []\n",
    "\n",
    "# Process each JSON file\n",
    "for f in json_files:\n",
    "    try:\n",
    "        with open(f, \"r\", encoding=\"utf-8\") as jf:  # Added encoding for robustness\n",
    "            meta = json.load(jf)\n",
    "\n",
    "        # Check if \"RecordingDuration\" exists and is valid\n",
    "        if \"RecordingDuration\" in meta and isinstance(meta[\"RecordingDuration\"], (int, float)):\n",
    "            duration = meta[\"RecordingDuration\"]\n",
    "            subject = os.path.basename(f).split(\"_\")[0]  # Extract subject ID (e.g., sub-0003)\n",
    "            run = [part for part in os.path.basename(f).split(\"_\") if part.startswith(\"run-\")]\n",
    "            run_id = run[0] if run else None  # Handle cases with no run ID\n",
    "\n",
    "            records.append({\n",
    "                \"subject\": subject,\n",
    "                \"run\": run_id,\n",
    "                \"file\": os.path.basename(f),\n",
    "                \"duration\": duration\n",
    "            })\n",
    "        else:\n",
    "            print(f\"Warning: 'RecordingDuration' missing or invalid in {f}\")\n",
    "    except json.JSONDecodeError as e:\n",
    "        print(f\"Error decoding JSON in {f}: {e}\")\n",
    "    except Exception as e:\n",
    "        print(f\"Error processing {f}: {e}\")\n",
    "\n",
    "# Check if any records were collected\n",
    "if records:\n",
    "    rec_df = pd.DataFrame(records)\n",
    "\n",
    "    # Group by subject and sum durations\n",
    "    dur_by_subject = rec_df.groupby(\"subject\")[\"duration\"].sum().reset_index()\n",
    "\n",
    "    # Print total recording duration per subject\n",
    "    print(\"\\nTotal recording duration per subject (seconds):\")\n",
    "    print(dur_by_subject)\n",
    "\n",
    "    # Print overall statistics\n",
    "    print(\"\\nOverall statistics by subject:\")\n",
    "    print(dur_by_subject[\"duration\"].describe())\n",
    "\n",
    "    # Print total duration in hours\n",
    "    total_hours = dur_by_subject[\"duration\"].sum() / 3600\n",
    "    print(f\"\\nTotal duration (hours): {total_hours:.2f}\")\n",
    "else:\n",
    "    print(\"No valid records found.\")"
   ]
  },
  {
   "cell_type": "code",
   "execution_count": 34,
   "id": "4fbec1c3",
   "metadata": {},
   "outputs": [
    {
     "name": "stdout",
     "output_type": "stream",
     "text": [
      "\n",
      "Record count by year:\n",
      "2024     874\n",
      "2025    1373\n",
      "Name: year, dtype: int64\n",
      "\n",
      "Record count by quarter:\n",
      "2024Q3    317\n",
      "2024Q4    557\n",
      "2025Q1    559\n",
      "2025Q2    648\n",
      "2025Q3    166\n",
      "Freq: Q-DEC, Name: quarter, dtype: int64\n",
      "\n",
      "Total valid records: 2247\n"
     ]
    }
   ],
   "source": [
    "import pandas as pd\n",
    "import glob\n",
    "import os\n",
    "\n",
    "# Define the BIDS root directory\n",
    "bids_root = \"/mnt/disk1/aiotlab/hieupc/New_CBraMod/BIDS/Small_BIDS_Non_Match\"\n",
    "\n",
    "# Find all scans.tsv files\n",
    "scan_files = glob.glob(os.path.join(bids_root, \"**\", \"sub-*_scans.tsv\"), recursive=True)\n",
    "\n",
    "all_scans = []\n",
    "\n",
    "# Process each scans.tsv file\n",
    "for f in scan_files:\n",
    "    try:\n",
    "        # Read the TSV file, assuming tab-separated and ignoring comments\n",
    "        df = pd.read_csv(f, sep=\"\\t\", comment=\"#\", encoding=\"utf-8\")\n",
    "        \n",
    "        # Check if 'acq_time' column exists\n",
    "        if \"acq_time\" in df.columns:\n",
    "            # Convert acq_time to datetime, invalid parsing will result in NaT\n",
    "            df[\"acq_time\"] = pd.to_datetime(df[\"acq_time\"], errors=\"coerce\")\n",
    "            \n",
    "            # Drop rows where acq_time is NaT (invalid datetime)\n",
    "            df = df.dropna(subset=[\"acq_time\"])\n",
    "            \n",
    "            # Add subject ID for tracking (optional, but useful for debugging)\n",
    "            subject = os.path.basename(f).split(\"_\")[0]  # Extract subject ID (e.g., sub-0003)\n",
    "            df[\"subject\"] = subject\n",
    "            \n",
    "            # Append only relevant columns\n",
    "            if not df.empty:\n",
    "                all_scans.append(df[[\"subject\", \"acq_time\"]])\n",
    "            else:\n",
    "                print(f\"Warning: No valid acq_time entries in {f}\")\n",
    "        else:\n",
    "            print(f\"Warning: 'acq_time' column missing in {f}\")\n",
    "    except pd.errors.EmptyDataError:\n",
    "        print(f\"Error: {f} is empty or invalid\")\n",
    "    except Exception as e:\n",
    "        print(f\"Error reading {f}: {e}\")\n",
    "\n",
    "# Check if any valid scans were collected\n",
    "if all_scans:\n",
    "    # Concatenate all DataFrames\n",
    "    scans_df = pd.concat(all_scans, ignore_index=True)\n",
    "\n",
    "    # Add year and quarter columns\n",
    "    scans_df[\"year\"] = scans_df[\"acq_time\"].dt.year\n",
    "    scans_df[\"quarter\"] = scans_df[\"acq_time\"].dt.to_period(\"Q\")\n",
    "\n",
    "    # Group and count by year\n",
    "    year_counts = scans_df[\"year\"].value_counts().sort_index()\n",
    "    print(\"\\nRecord count by year:\")\n",
    "    print(year_counts)\n",
    "\n",
    "    # Group and count by quarter\n",
    "    quarter_counts = scans_df[\"quarter\"].value_counts().sort_index()\n",
    "    print(\"\\nRecord count by quarter:\")\n",
    "    print(quarter_counts)\n",
    "\n",
    "    # Optional: Print total number of valid records\n",
    "    print(f\"\\nTotal valid records: {len(scans_df)}\")\n",
    "else:\n",
    "    print(\"No valid scans found.\")"
   ]
  },
  {
   "cell_type": "code",
   "execution_count": null,
   "id": "a33dc0a9",
   "metadata": {},
   "outputs": [],
   "source": [
    "Total recording duration per subject (seconds):\n",
    "       subject  duration\n",
    "0     sub-0001   109.998\n",
    "1     sub-0002   295.998\n",
    "2     sub-0003   125.998\n",
    "3     sub-0004    88.998\n",
    "4     sub-0005   177.998\n",
    "...        ...       ...\n",
    "6046  sub-6077   780.995\n",
    "6047  sub-6078   936.995\n",
    "6048  sub-6079   988.995\n",
    "6049  sub-6080  1614.995\n",
    "6050  sub-6081  1040.995\n",
    "\n",
    "[6051 rows x 2 columns]\n",
    "\n",
    "Overall statistics by subject:\n",
    "count      6051.000000\n",
    "mean        695.933188\n",
    "std        5527.242768\n",
    "min           0.998000\n",
    "25%         106.998000\n",
    "50%         147.998000\n",
    "75%         262.998000\n",
    "max      224587.986000\n",
    "Name: duration, dtype: float64\n",
    "\n",
    "Total duration (hours): 1169.75"
   ]
  },
  {
   "cell_type": "code",
   "execution_count": 41,
   "id": "85caaa45",
   "metadata": {},
   "outputs": [
    {
     "name": "stdout",
     "output_type": "stream",
     "text": [
      "11.598886466666666\n"
     ]
    }
   ],
   "source": [
    "print(f\"{695.933188/60}\")"
   ]
  },
  {
   "cell_type": "code",
   "execution_count": null,
   "id": "66f07786",
   "metadata": {},
   "outputs": [],
   "source": [
    "ecord count by year:\n",
    "year\n",
    "2019       9\n",
    "2020      17\n",
    "2021     413\n",
    "2022     627\n",
    "2024    2258\n",
    "2025    2895\n",
    "Name: count, dtype: int64\n",
    "\n",
    "Record count by quarter:\n",
    "quarter\n",
    "2019Q3       5\n",
    "2019Q4       4\n",
    "2020Q4      17\n",
    "2021Q1       2\n",
    "2021Q2       3\n",
    "2021Q3     164\n",
    "2021Q4     244\n",
    "2022Q1     230\n",
    "2022Q2     387\n",
    "2022Q3      10\n",
    "2024Q1     870\n",
    "2024Q2     513\n",
    "2024Q3     318\n",
    "2024Q4     557\n",
    "2025Q1     602\n",
    "2025Q2     691\n",
    "2025Q3    1602\n",
    "Freq: Q-DEC, Name: count, dtype: int64\n",
    "\n",
    "Total valid records: 6219"
   ]
  }
 ],
 "metadata": {
  "kernelspec": {
   "display_name": "Python 3",
   "language": "python",
   "name": "python3"
  },
  "language_info": {
   "codemirror_mode": {
    "name": "ipython",
    "version": 3
   },
   "file_extension": ".py",
   "mimetype": "text/x-python",
   "name": "python",
   "nbconvert_exporter": "python",
   "pygments_lexer": "ipython3",
   "version": "3.12.7"
  }
 },
 "nbformat": 4,
 "nbformat_minor": 5
}
